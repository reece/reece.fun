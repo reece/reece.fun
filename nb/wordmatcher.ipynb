{
 "cells": [
  {
   "cell_type": "code",
   "execution_count": 1,
   "metadata": {
    "collapsed": false
   },
   "outputs": [],
   "source": [
    "import os\n",
    "import reece.sandbox.wordmatcher\n",
    "wm = reece.sandbox.wordmatcher.WordMatcher(\"../reece/sandbox/_data/wordlists/words.txt.gz\")"
   ]
  },
  {
   "cell_type": "code",
   "execution_count": 2,
   "metadata": {
    "collapsed": false
   },
   "outputs": [
    {
     "data": {
      "text/plain": [
       "[('q', []),\n",
       " ('^e', ['easier']),\n",
       " ('^snort', ['snorters', 'snorts', 'snorter']),\n",
       " ('^l.e', []),\n",
       " ('^a', []),\n",
       " ('^u', []),\n",
       " ('n$', ['arisen', 'reason']),\n",
       " ('^.{,3}t',\n",
       "  ['satire', 'striae', 'ratios', 'satori', 'sortie', 'zoster', 'orates']),\n",
       " ('a', []),\n",
       " ('c', ['coarse', 'cozies', 'crazes', 'cozier', 'caries', 'crazies']),\n",
       " ('k', ['kaiser'])]"
      ]
     },
     "execution_count": 2,
     "metadata": {},
     "output_type": "execute_result"
    }
   ],
   "source": [
    "list(wm.find_options(letters='zeroasi', \n",
    "                     patterns=['q','^e','^snort','^l.e','^a','^u','n$','^.{,3}t','a','c','k'],\n",
    "                     min_length=6,\n",
    "                     must_use=''))"
   ]
  }
 ],
 "metadata": {
  "kernelspec": {
   "display_name": "Python 3",
   "language": "python",
   "name": "python3"
  },
  "language_info": {
   "codemirror_mode": {
    "name": "ipython",
    "version": 3
   },
   "file_extension": ".py",
   "mimetype": "text/x-python",
   "name": "python",
   "nbconvert_exporter": "python",
   "pygments_lexer": "ipython3",
   "version": "3.5.0+"
  }
 },
 "nbformat": 4,
 "nbformat_minor": 0
}
